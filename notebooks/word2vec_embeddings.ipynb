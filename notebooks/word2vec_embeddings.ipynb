{
 "cells": [
  {
   "cell_type": "code",
   "execution_count": 2,
   "metadata": {
    "ExecuteTime": {
     "end_time": "2020-07-24T00:32:53.787241Z",
     "start_time": "2020-07-24T00:32:53.784892Z"
    }
   },
   "outputs": [],
   "source": [
    "import os\n",
    "import sys\n",
    "\n",
    "sys.path.append(f\"{os.getcwd()}/../\")"
   ]
  },
  {
   "cell_type": "code",
   "execution_count": 180,
   "metadata": {
    "ExecuteTime": {
     "end_time": "2020-07-24T02:43:31.263791Z",
     "start_time": "2020-07-24T02:43:31.256887Z"
    }
   },
   "outputs": [],
   "source": [
    "import warnings\n",
    "warnings.filterwarnings(\"ignore\")\n",
    "\n",
    "import numpy as np\n",
    "import pandas as pd\n",
    "import matplotlib.pyplot as plt\n",
    "import seaborn as sn\n",
    "\n",
    "from sklearn.metrics.pairwise import cosine_distances\n",
    "from sklearn.manifold import TSNE\n",
    "\n",
    "from gensim.models import Word2Vec, KeyedVectors, Doc2Vec\n",
    "from gensim.test.utils import get_tmpfile\n",
    "\n",
    "%matplotlib inline"
   ]
  },
  {
   "cell_type": "code",
   "execution_count": 4,
   "metadata": {
    "ExecuteTime": {
     "end_time": "2020-07-24T00:32:59.854797Z",
     "start_time": "2020-07-24T00:32:58.974201Z"
    }
   },
   "outputs": [],
   "source": [
    "fname = get_tmpfile(f\"{os.getcwd()}/../models/w2v.vectors.kv\")\n",
    "w2v = KeyedVectors.load(fname, mmap='r')"
   ]
  },
  {
   "cell_type": "code",
   "execution_count": 5,
   "metadata": {
    "ExecuteTime": {
     "end_time": "2020-07-24T00:32:59.858642Z",
     "start_time": "2020-07-24T00:32:59.856044Z"
    }
   },
   "outputs": [
    {
     "name": "stdout",
     "output_type": "stream",
     "text": [
      "Tokens: 470098\n"
     ]
    }
   ],
   "source": [
    "print(f\"Tokens: {len(w2v.wv.vocab.keys())}\")"
   ]
  },
  {
   "cell_type": "code",
   "execution_count": 12,
   "metadata": {
    "ExecuteTime": {
     "end_time": "2020-07-22T11:35:46.270247Z",
     "start_time": "2020-07-22T11:35:45.353007Z"
    },
    "scrolled": false,
    "tags": []
   },
   "outputs": [
    {
     "name": "stdout",
     "output_type": "stream",
     "text": [
      "preto:\n",
      "----------------------------\n",
      "dourado              0.69609\n",
      "cinza                0.6934\n",
      "roxo                 0.6605\n",
      "\n",
      "branco:\n",
      "----------------------------\n",
      "branca               0.69341\n",
      "roxo                 0.68869\n",
      "cor                  0.68784\n",
      "\n",
      "pássaro:\n",
      "----------------------------\n",
      "papagaio             0.85398\n",
      "elefante             0.84935\n",
      "cervo                0.83688\n",
      "\n",
      "lobo:\n",
      "----------------------------\n",
      "grilo                0.67553\n",
      "lobos                0.67445\n",
      "papagaio             0.66639\n",
      "\n",
      "mulher:\n",
      "----------------------------\n",
      "homem                0.82249\n",
      "marido               0.73247\n",
      "menina               0.71697\n",
      "\n",
      "masculino:\n",
      "----------------------------\n",
      "feminino             0.91455\n",
      "masculina            0.72587\n",
      "sexo                 0.72037\n",
      "\n",
      "sexo:\n",
      "----------------------------\n",
      "masculino            0.72037\n",
      "casadas              0.69381\n",
      "gays                 0.68765\n",
      "\n",
      "montanha:\n",
      "----------------------------\n",
      "montanhas            0.79327\n",
      "cume                 0.78206\n",
      "encosta              0.76285\n",
      "\n",
      "oceano:\n",
      "----------------------------\n",
      "atlântico            0.84032\n",
      "pacífico             0.8222\n",
      "mares                0.80524\n",
      "\n",
      "lua:\n",
      "----------------------------\n",
      "saturno              0.75039\n",
      "vênus                0.74862\n",
      "lunar                0.73247\n",
      "\n",
      "amor:\n",
      "----------------------------\n",
      "amar                 0.83297\n",
      "felicidade           0.79607\n",
      "eterno               0.79195\n",
      "\n",
      "senhor:\n",
      "----------------------------\n",
      "deus                 0.7443\n",
      "vós                  0.68096\n",
      "jacó                 0.67475\n",
      "\n",
      "cimegripe:\n",
      "----------------------------\n",
      "tylemax              0.94386\n",
      "tylenol              0.93661\n",
      "resfenol             0.92632\n",
      "\n",
      "nimesulida:\n",
      "----------------------------\n",
      "betaciclodextrina    0.85896\n",
      "cetorolaco           0.84627\n",
      "piroxicam            0.84337\n",
      "\n",
      "médico:\n",
      "----------------------------\n",
      "prescrever           0.72763\n",
      "farmacêutico         0.72713\n",
      "enfermeiro           0.72338\n",
      "\n",
      "doença:\n",
      "----------------------------\n",
      "doenças              0.78361\n",
      "enfermidade          0.74385\n",
      "parkinson            0.67882\n",
      "\n",
      "coração:\n",
      "----------------------------\n",
      "bombear              0.65573\n",
      "peito                0.64056\n",
      "cardíaco             0.62405\n",
      "\n",
      "febre:\n",
      "----------------------------\n",
      "calafrios            0.69845\n",
      "chikungunya          0.68675\n",
      "febril               0.68431\n",
      "\n",
      "dor:\n",
      "----------------------------\n",
      "dores                0.79311\n",
      "desconforto          0.75892\n",
      "fraqueza             0.72801\n",
      "\n",
      "coriza:\n",
      "----------------------------\n",
      "rinorreia            0.91968\n",
      "congestão            0.90853\n",
      "rinorréia            0.89808\n",
      "\n",
      "rancor:\n",
      "----------------------------\n",
      "mágoa                0.90364\n",
      "mágoas               0.90274\n",
      "egoísmo              0.8758\n",
      "\n",
      "mau:\n",
      "----------------------------\n",
      "ruim                 0.70129\n",
      "prejudicado          0.68033\n",
      "péssimo              0.65002\n",
      "\n",
      "ódio:\n",
      "----------------------------\n",
      "rancor               0.81527\n",
      "desprezo             0.79735\n",
      "ressentimento        0.78899\n",
      "\n",
      "braço:\n",
      "----------------------------\n",
      "braços               0.73446\n",
      "esquerdo             0.5893\n",
      "cega                 0.58108\n",
      "\n",
      "maçã:\n",
      "----------------------------\n",
      "fruta                0.84694\n",
      "maça                 0.82989\n",
      "abóbora              0.82285\n",
      "\n",
      "coco:\n",
      "----------------------------\n",
      "amêndoas             0.81718\n",
      "limão                0.81387\n",
      "abacate              0.81098\n",
      "\n",
      "['lobo', 'mau']:\n",
      "----------------------------\n",
      "ruim                 0.69736\n",
      "olhado               0.68966\n",
      "preguiçoso           0.68806\n",
      "\n",
      "espada:\n",
      "----------------------------\n",
      "flecha               0.80553\n",
      "adaga                0.78984\n",
      "armadura             0.77611\n",
      "\n",
      "cavaleiro:\n",
      "----------------------------\n",
      "guerreiro            0.76632\n",
      "espada               0.76358\n",
      "samurai              0.76008\n",
      "\n",
      "rei:\n",
      "----------------------------\n",
      "imperador            0.78201\n",
      "monarca              0.73164\n",
      "trono                0.72483\n",
      "\n",
      "arthur:\n",
      "----------------------------\n",
      "wallace              0.79685\n",
      "edgar                0.79551\n",
      "simon                0.79144\n",
      "\n",
      "['rei', 'arthur']:\n",
      "----------------------------\n",
      "dario                0.76836\n",
      "herdeiro             0.75698\n",
      "conde                0.75097\n",
      "\n"
     ]
    }
   ],
   "source": [
    "for word in [\n",
    "    \"preto\", \"branco\", \"pássaro\", \"lobo\", \"mulher\", \"masculino\", \"sexo\", \"montanha\", \"oceano\", \n",
    "    \"lua\", \"amor\", \"senhor\", \"cimegripe\", \"nimesulida\", \"médico\",  \"doença\", \"coração\", \"febre\",\n",
    "    \"dor\", \"coriza\", \"rancor\", \"mau\", \"ódio\", \"braço\", \"maçã\", \"coco\", [\"lobo\", \"mau\"],\n",
    "    \"espada\", \"cavaleiro\", \"rei\", \"arthur\", [\"rei\", \"arthur\"]\n",
    "]:\n",
    "    print(f\"{word}:\")\n",
    "    print(\"-\" * 28)\n",
    "    for w in w2v.most_similar(word)[:3]:\n",
    "        print(w[0].ljust(20), round(w[1], 5))\n",
    "    print()"
   ]
  },
  {
   "cell_type": "code",
   "execution_count": 208,
   "metadata": {
    "ExecuteTime": {
     "end_time": "2020-07-24T02:46:48.794623Z",
     "start_time": "2020-07-24T02:46:47.902976Z"
    }
   },
   "outputs": [
    {
     "data": {
      "image/png": "[encoded data removed]",
      "text/plain": [
       "<Figure size 432x288 with 1 Axes>"
      ]
     },
     "metadata": {
      "needs_background": "light"
     },
     "output_type": "display_data"
    }
   ],
   "source": [
    "ls = []\n",
    "for word in [\n",
    "    \"alegria\", \"felicidade\", \"supresa\", \"confiança\",\n",
    "    \"amor\", \"temor\", \"submissão\",\n",
    "    \"tristeza\", \"raiva\", \"medo\", \"desgosto\"\n",
    "]:\n",
    "    latent = w2v[word]\n",
    "    if latent.ndim > 1:\n",
    "        latent = np.sum(latent, axis=0)\n",
    "    ls.append(np.asarray(latent))\n",
    "X = np.asarray(ls)\n",
    "\n",
    "X_embedded = TSNE(n_components=2, perplexity=35, n_iter=1000, n_jobs=-1).fit_transform(cosine_distances(X))\n",
    "\n",
    "colors = [\"yellow\", \"yellow\", \"yellow\", \"yellow\"]\n",
    "colors += [\"orange\", \"gray\", \"green\"]\n",
    "colors += [\"blue\", \"blue\", \"blue\", \"blue\"]\n",
    "\n",
    "plt.scatter(X_embedded[:, 0], X_embedded[:, 1], c=colors)\n",
    "plt.show()"
   ]
  },
  {
   "cell_type": "code",
   "execution_count": 183,
   "metadata": {
    "ExecuteTime": {
     "end_time": "2020-07-24T02:43:53.889225Z",
     "start_time": "2020-07-24T02:43:53.887380Z"
    },
    "scrolled": false
   },
   "outputs": [],
   "source": [
    "# for word in [\n",
    "#     \"perplexo\"\n",
    "# ]:\n",
    "#     print(f\"{word}:\")\n",
    "#     print(\"-\" * 28)\n",
    "#     for w in w2v.most_similar(word, topn=50):\n",
    "#         print(w[0])\n",
    "#         # print(w[0].ljust(20), round(w[1], 5))\n",
    "#     print()"
   ]
  },
  {
   "cell_type": "code",
   "execution_count": null,
   "metadata": {},
   "outputs": [],
   "source": []
  }
 ],
 "metadata": {
  "hide_input": false,
  "kernelspec": {
   "display_name": "Python 3",
   "language": "python",
   "name": "python3"
  },
  "language_info": {
   "codemirror_mode": {
    "name": "ipython",
    "version": 3
   },
   "file_extension": ".py",
   "mimetype": "text/x-python",
   "name": "python",
   "nbconvert_exporter": "python",
   "pygments_lexer": "ipython3",
   "version": "3.8.3"
  },
  "toc": {
   "base_numbering": 1,
   "nav_menu": {},
   "number_sections": true,
   "sideBar": true,
   "skip_h1_title": false,
   "title_cell": "Table of Contents",
   "title_sidebar": "Contents",
   "toc_cell": false,
   "toc_position": {},
   "toc_section_display": true,
   "toc_window_display": false
  }
 },
 "nbformat": 4,
 "nbformat_minor": 4
}
